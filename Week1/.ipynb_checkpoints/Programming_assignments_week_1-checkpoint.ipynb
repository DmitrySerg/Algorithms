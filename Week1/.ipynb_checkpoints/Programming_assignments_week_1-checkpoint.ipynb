{
 "cells": [
  {
   "cell_type": "markdown",
   "metadata": {},
   "source": [
    "# Programming assignments week 1"
   ]
  },
  {
   "cell_type": "markdown",
   "metadata": {},
   "source": [
    "### 1) Max Pairwise Product"
   ]
  },
  {
   "cell_type": "markdown",
   "metadata": {},
   "source": [
    "Problem\n",
    "\n",
    "Given a sequence of non-negative integers $a_0,…,a_{n−1}$, find the maximum pairwise product, that is, the largest integer that can be obtained by multiplying two different elements from the sequence (or, more formally, $max_{0≤i≠j≤n−1}a_ia_j$). Different elements here mean $a_i$ and $a_j$ with $i≠j$ (it can be the case that $a_i=a_j$).\n",
    "\n",
    "Input format\n",
    "\n",
    "The first line of the input contains an integer n. The next line contains n non-negative integers $a_0,…,a_{n−1}$ (separated by spaces).\n",
    "\n",
    "Constraints\n",
    "\n",
    "$2≤n≤2⋅10^5$; \n",
    "\n",
    "$0≤a_0,…,a_{n−1}≤10^5$.\n",
    "\n",
    "Output format\n",
    "\n",
    "Output a single number — the maximum pairwise product.\n",
    "\n"
   ]
  },
  {
   "cell_type": "code",
   "execution_count": 1,
   "metadata": {},
   "outputs": [
    {
     "name": "stdout",
     "output_type": "stream",
     "text": [
      "3\n",
      "1 6 7\n"
     ]
    }
   ],
   "source": [
    "n = int(input())\n",
    "a = [int(x) for x in input().split()]\n",
    "assert(len(a) == n)"
   ]
  },
  {
   "cell_type": "code",
   "execution_count": 16,
   "metadata": {
    "collapsed": true
   },
   "outputs": [],
   "source": [
    "def maxPairwise(a):\n",
    "    result = 0\n",
    "    max_1 = -1\n",
    "    index_1 = None\n",
    "    max_2 = -1\n",
    "    index_2 = None\n",
    "    # find first max value and its index\n",
    "    for element in range(len(a)):\n",
    "        if a[element] >= max_1:\n",
    "            max_1 = a[element]\n",
    "            index_1 = element\n",
    "            \n",
    "    # find second max value and its index \n",
    "    for element in range(len(a)):\n",
    "        if a[element] >= max_2:\n",
    "            # check if we already have that index\n",
    "            if element != index_1:\n",
    "                max_2 = a[element]\n",
    "                index_2 = element\n",
    "                \n",
    "    result = max_1 * max_2\n",
    "    print(\"Max 1: {}\".format(max_1))\n",
    "    print(\"Max 2: {}\".format(max_2))\n",
    "    print(\"Result {}\".format(result))"
   ]
  },
  {
   "cell_type": "code",
   "execution_count": 29,
   "metadata": {},
   "outputs": [
    {
     "name": "stdout",
     "output_type": "stream",
     "text": [
      "CPU times: user 2 µs, sys: 1 µs, total: 3 µs\n",
      "Wall time: 5.01 µs\n",
      "Max 1: 999999999\n",
      "Max 2: 1000000\n",
      "Result 999999999000000\n"
     ]
    }
   ],
   "source": [
    "%time\n",
    "a = [1000000, 999999999, 0, 0, 0]\n",
    "maxPairwise(a)"
   ]
  }
 ],
 "metadata": {
  "kernelspec": {
   "display_name": "Python 3",
   "language": "python",
   "name": "python3"
  },
  "language_info": {
   "codemirror_mode": {
    "name": "ipython",
    "version": 3
   },
   "file_extension": ".py",
   "mimetype": "text/x-python",
   "name": "python",
   "nbconvert_exporter": "python",
   "pygments_lexer": "ipython3",
   "version": "3.6.1"
  },
  "varInspector": {
   "cols": {
    "lenName": 16,
    "lenType": 16,
    "lenVar": 40
   },
   "kernels_config": {
    "python": {
     "delete_cmd_postfix": "",
     "delete_cmd_prefix": "del ",
     "library": "var_list.py",
     "varRefreshCmd": "print(var_dic_list())"
    },
    "r": {
     "delete_cmd_postfix": ") ",
     "delete_cmd_prefix": "rm(",
     "library": "var_list.r",
     "varRefreshCmd": "cat(var_dic_list()) "
    }
   },
   "types_to_exclude": [
    "module",
    "function",
    "builtin_function_or_method",
    "instance",
    "_Feature"
   ],
   "window_display": false
  }
 },
 "nbformat": 4,
 "nbformat_minor": 2
}
