{
 "cells": [
  {
   "cell_type": "markdown",
   "metadata": {},
   "source": [
    "# Programming_assignments_week_2"
   ]
  },
  {
   "cell_type": "markdown",
   "metadata": {},
   "source": [
    "### Changing Money\n",
    "Task. The goal in this problem is to  nd the minimum number of coins needed to change the input value (an integer) into coins with denominations 1, 5, and 10.\n",
    "\n",
    "Input Format. The input consists of a single integer 𝑚.\n",
    "\n",
    "Constraints. 1 ≤ 𝑚 ≤ $10^3$.\n",
    "\n",
    "Output Format. Output the minimum number of coins with denominations 1, 5, 10 that changes 𝑚."
   ]
  },
  {
   "cell_type": "code",
   "execution_count": 5,
   "metadata": {
    "collapsed": true
   },
   "outputs": [],
   "source": [
    "def get_change(m):\n",
    "    n_tens = m//10\n",
    "    m -= n_tens*10\n",
    "    \n",
    "    n_fives = m//5\n",
    "    m -= n_fives*5\n",
    "    \n",
    "    n_ones = m\n",
    "    m = n_tens + n_fives + n_ones\n",
    "    return m"
   ]
  },
  {
   "cell_type": "code",
   "execution_count": 10,
   "metadata": {},
   "outputs": [
    {
     "name": "stdout",
     "output_type": "stream",
     "text": [
      "301 ns ± 5 ns per loop (mean ± std. dev. of 7 runs, 1000000 loops each)\n"
     ]
    }
   ],
   "source": [
    "%%timeit\n",
    "get_change(28)"
   ]
  },
  {
   "cell_type": "markdown",
   "metadata": {},
   "source": [
    "### Maximizing the Value of a Loot\n",
    "Task. The goal of this code problem is to implement an algorithm for the fractional knapsack problem.\n",
    "\n",
    "Input Format. The  rst line of the input contains the number $n$ of items and the capacity $W$ of a knapsack. The next 𝑛 lines define the values and weights of the items. The $i$-th line contains integers $v_i$ and $w_i$ - the value and the weight of $i$-th item, respectively.\n",
    "\n",
    "Constraints. $1≤𝑛≤10^3$, $0≤𝑊 ≤2·10^6$; $0≤𝑣_𝑖 ≤2·10^6$, $0<𝑤_𝑖 ≤2·10^6$ for all $1≤𝑖≤𝑛$. All the numbers are integers.\n",
    "\n",
    "Output Format. Output the maximal value of fractions of items that fit into the knapsack. The absolute value of the difference between the answer of your program and the optimal value should be at most $10^−3$. To ensure this, output your answer with at least four digits after the decimal point (otherwise your answer, while being computed correctly, can turn out to be wrong because of rounding issues)."
   ]
  },
  {
   "cell_type": "code",
   "execution_count": 83,
   "metadata": {
    "collapsed": true
   },
   "outputs": [],
   "source": [
    "def get_optimal_value(capacity, weights, values):\n",
    "    value = 0.\n",
    "    prices = [value/weight for value, weight in zip(values, weights)]\n",
    "\n",
    "    weights = [w for _,w in sorted(zip(prices,weights), reverse=True)]\n",
    "    values = [v for _,v in sorted(zip(prices,values), reverse=True)]\n",
    "    prices = sorted(prices, reverse=True)\n",
    "    \n",
    "    for i in range(n):\n",
    "        if capacity == 0:\n",
    "            return value\n",
    "        a = min(weights[i], capacity)\n",
    "        value += a * prices[i]\n",
    "        capacity -= a    \n",
    "    return value"
   ]
  },
  {
   "cell_type": "code",
   "execution_count": 85,
   "metadata": {},
   "outputs": [
    {
     "data": {
      "text/plain": [
       "166.66666666666669"
      ]
     },
     "execution_count": 85,
     "metadata": {},
     "output_type": "execute_result"
    }
   ],
   "source": [
    "n = 1\n",
    "capacity = 10\n",
    "weights = [30]\n",
    "values = [500]\n",
    "\n",
    "n = 3\n",
    "capacity = 50\n",
    "weights = [20, 50, 30]\n",
    "values = [60, 100, 120]\n",
    "\n",
    "get_optimal_value(capacity=capacity, weights=weights, values=values)"
   ]
  },
  {
   "cell_type": "markdown",
   "metadata": {},
   "source": [
    "#### Maximizing Revenue in Online Ad Placement\n",
    "Task. Given two sequences $𝑎_1,𝑎_2,...,𝑎_𝑛$ ($𝑎_𝑖$ is the profit per click of the $𝑖$-th ad) and $𝑏_1,𝑏_2,...,𝑏_𝑛$ ($𝑏_𝑖$ is the average number of clicks per day of the $𝑖$-th slot), we need to partition them into $𝑛$ pairs ($𝑎_𝑖$,$𝑏_𝑗$) such that the sum of their products is maximized.\n",
    "\n",
    "Input Format. The first line contains an integer $𝑛$, the second one contains a sequence of integers $𝑎_1,𝑎_2,...,𝑎_𝑛$, the third one contains a sequence of integers $𝑏_1,𝑏_2,...,𝑏_𝑛$.\n",
    "Constraints. $1≤𝑛≤10^3$; $−10^5≤𝑎_𝑖,𝑏_𝑖 ≤10^5$ for all $1≤𝑖≤𝑛$.\n",
    "\n",
    "Output Format. Output the maximum value of $\\sum{𝑎_𝑖𝑐_𝑖}$, where $𝑐_1, 𝑐_2,...,𝑐_𝑛$ is a permutation of $𝑏_1,𝑏_2,...,𝑏_𝑛$."
   ]
  },
  {
   "cell_type": "code",
   "execution_count": 90,
   "metadata": {
    "collapsed": true
   },
   "outputs": [],
   "source": [
    "n = 3\n",
    "a = [1, 3, -5]\n",
    "b = [-2, 4, 1]"
   ]
  },
  {
   "cell_type": "code",
   "execution_count": 91,
   "metadata": {
    "collapsed": true
   },
   "outputs": [],
   "source": [
    "import numpy as np\n",
    "def max_dot_product(a, b):\n",
    "    #write your code here\n",
    "    a = np.array(sorted(a, reverse=True))\n",
    "    b = np.array(sorted(b, reverse=True))\n",
    "    res = 0\n",
    "    for i in range(len(a)):\n",
    "        res += a[i] * b[i]\n",
    "    return res"
   ]
  },
  {
   "cell_type": "code",
   "execution_count": 92,
   "metadata": {},
   "outputs": [
    {
     "data": {
      "text/plain": [
       "23"
      ]
     },
     "execution_count": 92,
     "metadata": {},
     "output_type": "execute_result"
    }
   ],
   "source": [
    "max_dot_product(a, b)"
   ]
  },
  {
   "cell_type": "markdown",
   "metadata": {},
   "source": [
    "#### Collecting Signatures\n",
    "Task. Given a set of 𝑛 segments ${[𝑎_0,𝑏_0],[𝑎_1,𝑏_1],...,[𝑎_{𝑛−1},𝑏_{𝑛−1}]}$ with integer coordinates on a line, find the minimum number $𝑚$ of points such that each segment contains at least one point. That is, find a set of integers $𝑋$ of the minimum size such that for any segment $[𝑎_𝑖,𝑏_𝑖]$ there is a point $𝑥 ∈ 𝑋$ such that $𝑎_𝑖 ≤𝑥≤𝑏_𝑖$.\n",
    "\n",
    "Input Format. The first line of the input contains the number 𝑛 of segments. Each of the following 𝑛 lines contains two integers $𝑎_𝑖$ and $𝑏_𝑖$ (separated by a space) defining the coordinates of endpoints of the $𝑖$-th segment.\n",
    "\n",
    "Constraints. $1≤𝑛≤100$; $0≤𝑎_𝑖 ≤𝑏_𝑖 ≤10^9$ for all $0≤𝑖<𝑛$.\n",
    "\n",
    "Output Format. Output the minimum number 𝑚 of points on the first line and the integer coordinates of 𝑚 points (separated by spaces) on the second line. You can output the points in any order. If there are many such sets of points, you can output any set. (It is not difficult to see that there always exist a set of points of the minimum size such that all the coordinates of the points are integers.)"
   ]
  },
  {
   "cell_type": "code",
   "execution_count": 133,
   "metadata": {
    "collapsed": true
   },
   "outputs": [],
   "source": [
    "from collections import namedtuple\n",
    "\n",
    "Segment = namedtuple('Segment', 'start end')\n",
    "\n",
    "def optimal_points(segments):\n",
    "    points = []\n",
    "    second_coords = []\n",
    "    for point in segments:\n",
    "        second_coords.append(point[1])\n",
    "    points.append(min(second_coords))\n",
    "    sorted_segments = [s for _,s in sorted(zip(second_coords,segments))]\n",
    "\n",
    "    for point in sorted_segments:\n",
    "        if point[0] <= points[-1] <= point[1]:\n",
    "            continue\n",
    "        else:\n",
    "            points.append(point[1])\n",
    "    return points"
   ]
  },
  {
   "cell_type": "code",
   "execution_count": 156,
   "metadata": {},
   "outputs": [],
   "source": [
    "n = 4\n",
    "segments = [[4, 7],[1, 3],[2, 5], [5, 6]]"
   ]
  },
  {
   "cell_type": "code",
   "execution_count": 214,
   "metadata": {},
   "outputs": [
    {
     "name": "stdout",
     "output_type": "stream",
     "text": [
      "5.76 µs ± 100 ns per loop (mean ± std. dev. of 7 runs, 100000 loops each)\n"
     ]
    }
   ],
   "source": [
    "%%timeit\n",
    "optimal_points(segments)"
   ]
  },
  {
   "cell_type": "markdown",
   "metadata": {},
   "source": [
    "#### Maximizing the Number of Prize Places in a Competition\n",
    "\n",
    "Task. The goal of this problem is to represent a given positive integer 𝑛 as a sum of as many pairwise distinct positive integers as possible. That is, to find the maximum 𝑘 such that 𝑛 can be written as $𝑎_1+𝑎_2+···+𝑎_𝑘$ where $𝑎_1,...,𝑎_𝑘$ are positive integers and $𝑎_𝑖\\neq𝑎_𝑗$ for all $1≤𝑖<𝑗≤𝑘$.\n",
    "\n",
    "Input Format. The input consists of a single integer 𝑛.\n",
    "\n",
    "Constraints. $1 ≤ 𝑛 ≤ 10^9$.\n",
    "\n",
    "Output Format. In the first line, output the maximum number 𝑘 such that 𝑛 can be represented as a sum of 𝑘 pairwise distinct positive integers. In the second line, output 𝑘 pairwise distinct positive integers that sum up to 𝑛 (if there are many such representations, output any of them)."
   ]
  },
  {
   "cell_type": "code",
   "execution_count": 175,
   "metadata": {
    "collapsed": true
   },
   "outputs": [],
   "source": [
    "import time"
   ]
  },
  {
   "cell_type": "code",
   "execution_count": 206,
   "metadata": {},
   "outputs": [],
   "source": [
    "def optimal_summands(n):\n",
    "    l = 1\n",
    "    summands = []\n",
    "    while n>0:\n",
    "        if n <= 2*l:\n",
    "            summands.append(n)\n",
    "            break\n",
    "        else:\n",
    "            summands.append(l)\n",
    "            n -= l\n",
    "            l += 1\n",
    "    return summands"
   ]
  },
  {
   "cell_type": "code",
   "execution_count": 210,
   "metadata": {},
   "outputs": [
    {
     "data": {
      "text/plain": [
       "[1, 2, 3, 4, 5, 6, 7, 8, 9, 10, 11, 12, 22]"
      ]
     },
     "execution_count": 210,
     "metadata": {},
     "output_type": "execute_result"
    }
   ],
   "source": [
    "optimal_summands(100)"
   ]
  },
  {
   "cell_type": "markdown",
   "metadata": {},
   "source": [
    "#### Maximizing Your Salary\n",
    "Task. Compose the largest number out of a set of integers.\n",
    "\n",
    "Input Format. The first line of the input contains an integer 𝑛. The second line contains integers $𝑎_1,𝑎_2,...,𝑎_𝑛$.\n",
    "\n",
    "Constraints. $1≤𝑛≤100$; $1≤𝑎_𝑖 ≤10^3$ for all $1≤𝑖≤𝑛$.\n",
    "\n",
    "Output Format. Output the largest number that can be composed out of $𝑎_1, 𝑎_2, . . . , 𝑎_𝑛$."
   ]
  },
  {
   "cell_type": "code",
   "execution_count": 215,
   "metadata": {
    "collapsed": true
   },
   "outputs": [],
   "source": [
    "l = [1, 3, 5]\n",
    "l.remove(1)"
   ]
  },
  {
   "cell_type": "code",
   "execution_count": 216,
   "metadata": {},
   "outputs": [
    {
     "data": {
      "text/plain": [
       "[3, 5]"
      ]
     },
     "execution_count": 216,
     "metadata": {},
     "output_type": "execute_result"
    }
   ],
   "source": [
    "l"
   ]
  },
  {
   "cell_type": "code",
   "execution_count": 347,
   "metadata": {},
   "outputs": [],
   "source": [
    "n = 2\n",
    "a = [\"21\", \"2\"]\n",
    "\n",
    "def largest_number(a):\n",
    "    #write your code here\n",
    "    res = \"\"\n",
    "    while len(a)!=0:\n",
    "        maxDigit = 0\n",
    "        for digit in a:\n",
    "            first_pair = digit + str(maxDigit) \n",
    "            second_pair = str(maxDigit) + digit\n",
    "            if int(first_pair) > int(second_pair):\n",
    "                maxDigit = int(digit)            \n",
    "        res += str(maxDigit)\n",
    "        a.remove(str(maxDigit))\n",
    "    return int(res)"
   ]
  },
  {
   "cell_type": "code",
   "execution_count": 338,
   "metadata": {},
   "outputs": [
    {
     "data": {
      "text/plain": [
       "221"
      ]
     },
     "execution_count": 338,
     "metadata": {},
     "output_type": "execute_result"
    }
   ],
   "source": [
    "largest_number(a)"
   ]
  },
  {
   "cell_type": "code",
   "execution_count": 339,
   "metadata": {
    "collapsed": true
   },
   "outputs": [],
   "source": [
    "a = \"2 6 3 8 8 9 8 2 9 10 3 10 7 5 7 1 7 5 1 4 7 6 1 10 5 4 8 4 2 7 8 1 1 7 4 1 1 9 8 6 5 9 9 3 7 6 3 10 8 10 7 2 5 1 1 9 9 5\"\n",
    "a = a.split()\n",
    "a = [x for x in a]"
   ]
  },
  {
   "cell_type": "code",
   "execution_count": 340,
   "metadata": {},
   "outputs": [
    {
     "data": {
      "text/plain": [
       "999999988888887777777766665555554444333322221111111111010101010"
      ]
     },
     "execution_count": 340,
     "metadata": {},
     "output_type": "execute_result"
    }
   ],
   "source": [
    "largest_number(a)"
   ]
  },
  {
   "cell_type": "code",
   "execution_count": 345,
   "metadata": {
    "collapsed": true
   },
   "outputs": [],
   "source": [
    "a = \"1950 1911 2\"\n",
    "a = a.split()\n",
    "n = len(a)"
   ]
  },
  {
   "cell_type": "code",
   "execution_count": 346,
   "metadata": {},
   "outputs": [
    {
     "data": {
      "text/plain": [
       "219501911"
      ]
     },
     "execution_count": 346,
     "metadata": {},
     "output_type": "execute_result"
    }
   ],
   "source": [
    "largest_number(a)"
   ]
  },
  {
   "cell_type": "code",
   "execution_count": 319,
   "metadata": {},
   "outputs": [
    {
     "data": {
      "text/plain": [
       "'11'"
      ]
     },
     "execution_count": 319,
     "metadata": {},
     "output_type": "execute_result"
    }
   ],
   "source": [
    "\"112\"[0:2]"
   ]
  },
  {
   "cell_type": "code",
   "execution_count": null,
   "metadata": {
    "collapsed": true
   },
   "outputs": [],
   "source": []
  }
 ],
 "metadata": {
  "kernelspec": {
   "display_name": "Python 3",
   "language": "python",
   "name": "python3"
  },
  "language_info": {
   "codemirror_mode": {
    "name": "ipython",
    "version": 3
   },
   "file_extension": ".py",
   "mimetype": "text/x-python",
   "name": "python",
   "nbconvert_exporter": "python",
   "pygments_lexer": "ipython3",
   "version": "3.6.1"
  },
  "varInspector": {
   "cols": {
    "lenName": 16,
    "lenType": 16,
    "lenVar": 40
   },
   "kernels_config": {
    "python": {
     "delete_cmd_postfix": "",
     "delete_cmd_prefix": "del ",
     "library": "var_list.py",
     "varRefreshCmd": "print(var_dic_list())"
    },
    "r": {
     "delete_cmd_postfix": ") ",
     "delete_cmd_prefix": "rm(",
     "library": "var_list.r",
     "varRefreshCmd": "cat(var_dic_list()) "
    }
   },
   "position": {
    "height": "380px",
    "left": "1070px",
    "right": "20px",
    "top": "120px",
    "width": "339px"
   },
   "types_to_exclude": [
    "module",
    "function",
    "builtin_function_or_method",
    "instance",
    "_Feature"
   ],
   "window_display": false
  }
 },
 "nbformat": 4,
 "nbformat_minor": 2
}
