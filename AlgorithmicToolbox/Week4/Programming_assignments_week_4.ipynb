{
 "cells": [
  {
   "cell_type": "markdown",
   "metadata": {},
   "source": [
    "# Programming assignments week 4"
   ]
  },
  {
   "cell_type": "markdown",
   "metadata": {},
   "source": []
  },
  {
   "cell_type": "code",
   "execution_count": 47,
   "metadata": {
    "collapsed": true
   },
   "outputs": [],
   "source": [
    "def binary_search(a, left, right, x):\n",
    "    if (right < left) or (x>a[right-1]):\n",
    "        return left - 1\n",
    "    mid = int(left + (right-left)/2)\n",
    "    if x == a[mid]:\n",
    "        return mid\n",
    "    elif x < a[mid]:\n",
    "        return binary_search(a, left, mid-1, x)\n",
    "    else:\n",
    "        return binary_search(a, mid+1, right, x)\n",
    "    \n",
    "\n",
    "def linear_search(a, x):\n",
    "    for i in range(len(a)):\n",
    "        if a[i] == x:\n",
    "            return i\n",
    "    return -1"
   ]
  },
  {
   "cell_type": "code",
   "execution_count": 49,
   "metadata": {},
   "outputs": [
    {
     "name": "stdout",
     "output_type": "stream",
     "text": [
      "2 0 -1 0 2 "
     ]
    }
   ],
   "source": [
    "data = list(map(int, \"5 1 5 8 12 13 5 8 1 23 1 11\".split()))\n",
    "n = data[0]\n",
    "m = data[n + 1]\n",
    "a = data[1 : n + 1]\n",
    "left, right = 0, len(a)\n",
    "for x in data[n + 2:]:\n",
    "    # replace with the call to binary_search when implemented\n",
    "    print(binary_search(a, left, right, x), end = ' ')"
   ]
  },
  {
   "cell_type": "code",
   "execution_count": null,
   "metadata": {
    "collapsed": true
   },
   "outputs": [],
   "source": []
  }
 ],
 "metadata": {
  "kernelspec": {
   "display_name": "Python 3",
   "language": "python",
   "name": "python3"
  },
  "language_info": {
   "codemirror_mode": {
    "name": "ipython",
    "version": 3
   },
   "file_extension": ".py",
   "mimetype": "text/x-python",
   "name": "python",
   "nbconvert_exporter": "python",
   "pygments_lexer": "ipython3",
   "version": "3.6.1"
  },
  "varInspector": {
   "cols": {
    "lenName": 16,
    "lenType": 16,
    "lenVar": 40
   },
   "kernels_config": {
    "python": {
     "delete_cmd_postfix": "",
     "delete_cmd_prefix": "del ",
     "library": "var_list.py",
     "varRefreshCmd": "print(var_dic_list())"
    },
    "r": {
     "delete_cmd_postfix": ") ",
     "delete_cmd_prefix": "rm(",
     "library": "var_list.r",
     "varRefreshCmd": "cat(var_dic_list()) "
    }
   },
   "types_to_exclude": [
    "module",
    "function",
    "builtin_function_or_method",
    "instance",
    "_Feature"
   ],
   "window_display": false
  }
 },
 "nbformat": 4,
 "nbformat_minor": 2
}
