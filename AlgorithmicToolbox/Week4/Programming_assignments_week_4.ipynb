{
 "cells": [
  {
   "cell_type": "markdown",
   "metadata": {},
   "source": [
    "# Programming assignments week 4"
   ]
  },
  {
   "cell_type": "markdown",
   "metadata": {},
   "source": [
    "### Implementing Binary Search"
   ]
  },
  {
   "cell_type": "code",
   "execution_count": 113,
   "metadata": {
    "code_folding": [],
    "collapsed": true
   },
   "outputs": [],
   "source": [
    "def binary_search(a, left, right, x):\n",
    "    \n",
    "    if (right < left) or (x>a[-1]):\n",
    "        return -1\n",
    "    \n",
    "    mid = int(left + (right-left)/2)\n",
    "    \n",
    "    if x == a[mid]:\n",
    "        return mid\n",
    "    \n",
    "    elif x < a[mid]:\n",
    "        return binary_search(a, left, mid-1, x)\n",
    "    \n",
    "    else:\n",
    "        return binary_search(a, mid+1, right, x)\n",
    "    \n",
    "\n",
    "def linear_search(a, x):\n",
    "    for i in range(len(a)):\n",
    "        if a[i] == x:\n",
    "            return i\n",
    "    return -1"
   ]
  },
  {
   "cell_type": "code",
   "execution_count": 115,
   "metadata": {},
   "outputs": [
    {
     "name": "stdout",
     "output_type": "stream",
     "text": [
      "-1 0 1 2 3 4 5 6 7 8 9 -1 "
     ]
    }
   ],
   "source": [
    "data = list(map(int, \"10 2 3 4 5 6 7 8 9 10 11 12 1 2 3 4 5 6 7 8 9 10 11 12\".split()))\n",
    "n = data[0]\n",
    "m = data[n + 1]\n",
    "a = data[1 : n + 1]\n",
    "left, right = 0, len(a)\n",
    "for x in data[n + 2:]:\n",
    "    print(binary_search(a, left, right, x), end = ' ')"
   ]
  },
  {
   "cell_type": "markdown",
   "metadata": {},
   "source": [
    "### Finding a Majority Element\n",
    "\n",
    "Majority rule is a decision rule that selects the alternative which has a majority, that is, more than half the votes.\n",
    "Given a sequence of elements $a_1, a_2, . . . , a_n$, you would like to check whether it contains an element that appears more than $n/2$ times."
   ]
  },
  {
   "cell_type": "code",
   "execution_count": 171,
   "metadata": {},
   "outputs": [],
   "source": [
    "def get_majority_element(a, left, right):\n",
    "    if left == right:\n",
    "        return -1\n",
    "    if left + 1 == right:\n",
    "        return a[left]\n",
    "    \n",
    "    counters = {}\n",
    "    \n",
    "    for element in a:\n",
    "        counters[element] = counters.get(element, 0) + 1\n",
    "        if counters[element] > len(a)/2:\n",
    "            return counters[element]\n",
    "    \n",
    "    for key, value in counters.items():\n",
    "        if value > len(a)/2:\n",
    "            return key\n",
    "    return -1"
   ]
  },
  {
   "cell_type": "code",
   "execution_count": 157,
   "metadata": {
    "collapsed": true
   },
   "outputs": [],
   "source": [
    "def get_majority_element_dc(a, left, right):\n",
    "    # divide and conquer approach\n",
    "    if left == right:\n",
    "        return -1\n",
    "    if left + 1 == right:\n",
    "        return a[left]\n",
    "    \n",
    "    mid = int(left + (right-left)/2)\n",
    "    left_maj = get_majority_element(a, left, mid-1)\n",
    "    right_maj = get_majority_element(a, mid, right)\n",
    "    \n",
    "    if left_maj==right_maj:\n",
    "        return left_maj\n",
    "    \n",
    "    left_count = 0\n",
    "    right_count = 0\n",
    "    \n",
    "    for element in a:\n",
    "        if element==left_maj:\n",
    "            left_count+=1\n",
    "        if element==right_maj:\n",
    "            right_count+=1\n",
    "            \n",
    "    if left_count>len(a)/2:\n",
    "        return left_maj\n",
    "    if right_count>len(a)/2:\n",
    "        return right_maj\n",
    "    \n",
    "    return -1"
   ]
  },
  {
   "cell_type": "code",
   "execution_count": 168,
   "metadata": {},
   "outputs": [],
   "source": [
    "a = list(map(int, list(\"2222222342363222265465422227657622222576133\")))\n",
    "left, right = 0, len(a)"
   ]
  },
  {
   "cell_type": "code",
   "execution_count": 172,
   "metadata": {},
   "outputs": [
    {
     "name": "stdout",
     "output_type": "stream",
     "text": [
      "16.9 µs ± 133 ns per loop (mean ± std. dev. of 7 runs, 100000 loops each)\n"
     ]
    }
   ],
   "source": [
    "%%timeit\n",
    "get_majority_element(a, left, right)"
   ]
  },
  {
   "cell_type": "code",
   "execution_count": 173,
   "metadata": {},
   "outputs": [
    {
     "name": "stdout",
     "output_type": "stream",
     "text": [
      "33.6 µs ± 200 ns per loop (mean ± std. dev. of 7 runs, 10000 loops each)\n"
     ]
    }
   ],
   "source": [
    "%%timeit\n",
    "get_majority_element_dc(a, left, right)"
   ]
  },
  {
   "cell_type": "markdown",
   "metadata": {},
   "source": [
    "### Improving Quick Sort\n",
    "The goal in this problem is to redesign a given implementation of the random- ized quick sort algorithm so that it works fast even on sequences containing many equal elements.\n",
    "\n",
    "Task. To force the given implementation of the quick sort algorithm to efficiently process sequences with few unique elements, your goal is replace a 2-way partition with a 3-way partition. That is, your new partition procedure should partition the array into three parts: < x part, = x part, and > x part.\n",
    "\n",
    "Input Format. The first line of the input contains an integer $n$. The next line contains a sequence of $n$ integers $a_0, a_1, . . . , a_{n−1}$."
   ]
  },
  {
   "cell_type": "code",
   "execution_count": 385,
   "metadata": {},
   "outputs": [
    {
     "data": {
      "text/plain": [
       "[2, 2, 7, 5, 9, [2], 2, 1, 1, 1]"
      ]
     },
     "execution_count": 385,
     "metadata": {},
     "output_type": "execute_result"
    }
   ],
   "source": [
    "a"
   ]
  },
  {
   "cell_type": "code",
   "execution_count": 394,
   "metadata": {
    "collapsed": true
   },
   "outputs": [],
   "source": [
    "def partition3(a, l, r):\n",
    "    x = a[l]\n",
    "    m1, m2 = l, l\n",
    "    \n",
    "    for i in range(l + 1, r + 1):\n",
    "        print(\"iteration {}\".format(i), \"| a_i = {}\".format(a[i]))\n",
    "        print(a)\n",
    "        if a[i] == x:\n",
    "            m2 += 1\n",
    "            a[i], a[m2] = a[m2], a[i] \n",
    "        elif a[i] < x:    \n",
    "            m1 += 1\n",
    "            m2 += 1 \n",
    "            a[i], a[m2] = a[m2], a[i]\n",
    "            a[m1 - 1], a[m2] = a[m2], a[m1 - 1]\n",
    "            \n",
    "        print(a)\n",
    "    return m1, m2"
   ]
  },
  {
   "cell_type": "code",
   "execution_count": 395,
   "metadata": {},
   "outputs": [
    {
     "name": "stdout",
     "output_type": "stream",
     "text": [
      "[2, 7, 2, 5, 9, 1, 2, 1, 1, 1]\n",
      "==============================\n",
      "iteration 1 | a_i = 7\n",
      "[2, 7, 2, 5, 9, 1, 2, 1, 1, 1]\n",
      "[2, 7, 2, 5, 9, 1, 2, 1, 1, 1]\n",
      "iteration 2 | a_i = 2\n",
      "[2, 7, 2, 5, 9, 1, 2, 1, 1, 1]\n",
      "[2, 2, 7, 5, 9, 1, 2, 1, 1, 1]\n",
      "iteration 3 | a_i = 5\n",
      "[2, 2, 7, 5, 9, 1, 2, 1, 1, 1]\n",
      "[2, 2, 7, 5, 9, 1, 2, 1, 1, 1]\n",
      "iteration 4 | a_i = 9\n",
      "[2, 2, 7, 5, 9, 1, 2, 1, 1, 1]\n",
      "[2, 2, 7, 5, 9, 1, 2, 1, 1, 1]\n",
      "iteration 5 | a_i = 1\n",
      "[2, 2, 7, 5, 9, 1, 2, 1, 1, 1]\n",
      "[1, 2, 2, 5, 9, 7, 2, 1, 1, 1]\n",
      "iteration 6 | a_i = 2\n",
      "[1, 2, 2, 5, 9, 7, 2, 1, 1, 1]\n",
      "[1, 2, 2, 2, 9, 7, 5, 1, 1, 1]\n",
      "iteration 7 | a_i = 1\n",
      "[1, 2, 2, 2, 9, 7, 5, 1, 1, 1]\n",
      "[1, 1, 2, 2, 2, 7, 5, 9, 1, 1]\n",
      "iteration 8 | a_i = 1\n",
      "[1, 1, 2, 2, 2, 7, 5, 9, 1, 1]\n",
      "[1, 1, 1, 2, 2, 2, 5, 9, 7, 1]\n",
      "iteration 9 | a_i = 1\n",
      "[1, 1, 1, 2, 2, 2, 5, 9, 7, 1]\n",
      "[1, 1, 1, 1, 2, 2, 2, 9, 7, 5]\n",
      "(4, 6)\n",
      "[1, 1, 1, 1, 2, 2, 2, 9, 7, 5]\n"
     ]
    }
   ],
   "source": [
    "a = list(map(int, list(\"2725912111\")))\n",
    "print(a)\n",
    "print(\"==============================\")\n",
    "print(partition3(a, 0, len(a)-1))\n",
    "print(a)"
   ]
  },
  {
   "cell_type": "code",
   "execution_count": 325,
   "metadata": {},
   "outputs": [
    {
     "data": {
      "text/plain": [
       "[1, 1, 2, 2, 3, 3, 3, 3, 3, 3, 3, 3, 4, 4]"
      ]
     },
     "execution_count": 325,
     "metadata": {},
     "output_type": "execute_result"
    }
   ],
   "source": [
    "sorted(a)"
   ]
  },
  {
   "cell_type": "code",
   "execution_count": null,
   "metadata": {
    "collapsed": true
   },
   "outputs": [],
   "source": []
  },
  {
   "cell_type": "code",
   "execution_count": 399,
   "metadata": {
    "code_folding": [],
    "collapsed": true
   },
   "outputs": [],
   "source": [
    "import random\n",
    "\n",
    "def partition3(a, l, r):\n",
    "    x = a[l]\n",
    "    m1, m2 = l, l\n",
    "    \n",
    "    for i in range(l + 1, r + 1):\n",
    "        if a[i] == x:\n",
    "            m2 += 1\n",
    "            a[i], a[m2] = a[m2], a[i] \n",
    "        elif a[i] < x:    \n",
    "            m1 += 1\n",
    "            m2 += 1 \n",
    "            a[i], a[m2] = a[m2], a[i]\n",
    "            a[m1 - 1], a[m2] = a[m2], a[m1 - 1]\n",
    "    return m1, m2\n",
    "    \n",
    "\n",
    "def partition2(a, l, r):\n",
    "    x = a[l]\n",
    "    j = l;\n",
    "    for i in range(l + 1, r + 1):\n",
    "        if a[i] <= x:\n",
    "            j += 1\n",
    "            a[i], a[j] = a[j], a[i]\n",
    "    a[l], a[j] = a[j], a[l]\n",
    "    return j\n",
    "\n",
    "\n",
    "def randomized_quick_sort(a, l, r):\n",
    "    if l >= r:\n",
    "        return\n",
    "    k = random.randint(l, r)\n",
    "    a[l], a[k] = a[k], a[l]\n",
    "    #use partition3\n",
    "    m1, m2 = partition3(a, l, r)\n",
    "    randomized_quick_sort(a, l, m1 - 1);\n",
    "    randomized_quick_sort(a, m2 + 1, r);"
   ]
  },
  {
   "cell_type": "code",
   "execution_count": 397,
   "metadata": {},
   "outputs": [],
   "source": [
    "a = list(map(int, list(\"7471788768767718\")))\n",
    "n = len(a)\n",
    "randomized_quick_sort(a, 0, n - 1)"
   ]
  },
  {
   "cell_type": "code",
   "execution_count": 398,
   "metadata": {},
   "outputs": [
    {
     "name": "stdout",
     "output_type": "stream",
     "text": [
      "[1, 1, 4, 6, 6, 7, 7, 7, 7, 7, 7, 7, 8, 8, 8, 8]\n"
     ]
    }
   ],
   "source": [
    "print(a)"
   ]
  },
  {
   "cell_type": "code",
   "execution_count": null,
   "metadata": {
    "collapsed": true
   },
   "outputs": [],
   "source": []
  }
 ],
 "metadata": {
  "kernelspec": {
   "display_name": "Python 3",
   "language": "python",
   "name": "python3"
  },
  "language_info": {
   "codemirror_mode": {
    "name": "ipython",
    "version": 3
   },
   "file_extension": ".py",
   "mimetype": "text/x-python",
   "name": "python",
   "nbconvert_exporter": "python",
   "pygments_lexer": "ipython3",
   "version": "3.6.1"
  },
  "varInspector": {
   "cols": {
    "lenName": 16,
    "lenType": 16,
    "lenVar": 40
   },
   "kernels_config": {
    "python": {
     "delete_cmd_postfix": "",
     "delete_cmd_prefix": "del ",
     "library": "var_list.py",
     "varRefreshCmd": "print(var_dic_list())"
    },
    "r": {
     "delete_cmd_postfix": ") ",
     "delete_cmd_prefix": "rm(",
     "library": "var_list.r",
     "varRefreshCmd": "cat(var_dic_list()) "
    }
   },
   "types_to_exclude": [
    "module",
    "function",
    "builtin_function_or_method",
    "instance",
    "_Feature"
   ],
   "window_display": false
  }
 },
 "nbformat": 4,
 "nbformat_minor": 2
}
