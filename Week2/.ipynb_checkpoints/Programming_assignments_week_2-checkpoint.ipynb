{
 "cells": [
  {
   "cell_type": "markdown",
   "metadata": {},
   "source": [
    "# Programming assignments week 2"
   ]
  },
  {
   "cell_type": "markdown",
   "metadata": {},
   "source": [
    "### Small Fibonacci number\n",
    "\n",
    "Task. Given an integer 𝑛, find the 𝑛th Fibonacci number $𝐹_𝑛$. \n",
    "\n",
    "Input Format. The input consists of a single integer 𝑛. \n",
    "\n",
    "Constraints. 0 ≤ 𝑛 ≤ 45.\n",
    "\n",
    "Output Format. Output $𝐹_𝑛$."
   ]
  },
  {
   "cell_type": "code",
   "execution_count": 42,
   "metadata": {},
   "outputs": [
    {
     "name": "stdout",
     "output_type": "stream",
     "text": [
      "45\n",
      "1134903170\n"
     ]
    }
   ],
   "source": [
    "def calc_fib(n):\n",
    "    if (n <= 1):\n",
    "        return n\n",
    "    else:\n",
    "        a, b = 0, 1\n",
    "        for i in range(n-1):\n",
    "            b, a = b + a, b\n",
    "        return b\n",
    "\n",
    "n = int(input())\n",
    "print(calc_fib(n))"
   ]
  },
  {
   "cell_type": "markdown",
   "metadata": {},
   "source": [
    "### Fibonacci last digit\n",
    "Task. Given an integer 𝑛, find the last digit of the 𝑛th Fibonacci number $𝐹_𝑛$ (that is, $𝐹_𝑛$ mod 10). \n",
    "\n",
    "Input Format. The input consists of a single integer 𝑛.\n",
    "\n",
    "Constraints. 0 ≤ 𝑛 ≤ $10^7$.\n",
    "\n",
    "Output Format. Output the last digit of $𝐹_𝑛$."
   ]
  },
  {
   "cell_type": "code",
   "execution_count": 61,
   "metadata": {
    "collapsed": true
   },
   "outputs": [],
   "source": [
    "def get_fibonacci_last_digit(n):\n",
    "    if n <= 1:\n",
    "        return n\n",
    "    previous = 0\n",
    "    current  = 1\n",
    "\n",
    "    for _ in range(n - 1):\n",
    "        previous, current = current%10, previous%10 + current\n",
    "    return current % 10"
   ]
  },
  {
   "cell_type": "code",
   "execution_count": 67,
   "metadata": {},
   "outputs": [
    {
     "name": "stdout",
     "output_type": "stream",
     "text": [
      "10000 loops, best of 3: 33.8 µs per loop\n"
     ]
    }
   ],
   "source": [
    "%%timeit\n",
    "get_fibonacci_last_digit(331)"
   ]
  },
  {
   "cell_type": "markdown",
   "metadata": {},
   "source": [
    "### Greatest Common Divisor \n",
    "Task. Given two integers 𝑎 and 𝑏, find their greatest common divisor.\n",
    "\n",
    "Input Format. The two integers 𝑎, 𝑏 are given in the same line separated by space. \n",
    "\n",
    "Constraints. 1≤𝑎,𝑏≤2·$10^9$.\n",
    "\n",
    "Output Format. Output GCD(𝑎, 𝑏)."
   ]
  },
  {
   "cell_type": "code",
   "execution_count": 83,
   "metadata": {
    "collapsed": true
   },
   "outputs": [],
   "source": [
    "def gcd_naive(a, b):\n",
    "    current_gcd = 1\n",
    "    for d in range(2, min(a, b) + 1):\n",
    "        if a % d == 0 and b % d == 0:\n",
    "            if d > current_gcd:\n",
    "                current_gcd = d\n",
    "    return current_gcd"
   ]
  },
  {
   "cell_type": "code",
   "execution_count": 78,
   "metadata": {
    "collapsed": true
   },
   "outputs": [],
   "source": [
    "def Euclid_gcd(a, b):\n",
    "    if b == 0:\n",
    "        return a\n",
    "    else:\n",
    "        a = a%b\n",
    "    return Euclid_gcd(b, a)"
   ]
  },
  {
   "cell_type": "code",
   "execution_count": 80,
   "metadata": {},
   "outputs": [
    {
     "name": "stdout",
     "output_type": "stream",
     "text": [
      "The slowest run took 4.11 times longer than the fastest. This could mean that an intermediate result is being cached.\n",
      "1000000 loops, best of 3: 481 ns per loop\n"
     ]
    }
   ],
   "source": [
    "%%timeit\n",
    "Euclid_gcd(30, 12)"
   ]
  },
  {
   "cell_type": "code",
   "execution_count": 84,
   "metadata": {},
   "outputs": [
    {
     "name": "stdout",
     "output_type": "stream",
     "text": [
      "1000000 loops, best of 3: 1.66 µs per loop\n"
     ]
    }
   ],
   "source": [
    "%%timeit\n",
    "gcd_naive(30, 12)"
   ]
  },
  {
   "cell_type": "code",
   "execution_count": 85,
   "metadata": {},
   "outputs": [
    {
     "data": {
      "text/plain": [
       "17657"
      ]
     },
     "execution_count": 85,
     "metadata": {},
     "output_type": "execute_result"
    }
   ],
   "source": [
    "Euclid_gcd(28851538, 1183019)"
   ]
  },
  {
   "cell_type": "markdown",
   "metadata": {},
   "source": [
    "### Least Common Multiple\n",
    "The least common multiple of two positive integers 𝑎 and 𝑏 is the least positive integer 𝑚 that is divisible by both 𝑎 and 𝑏.\n",
    "\n",
    "Task. Given two integers 𝑎 and 𝑏, find their least common multiple.\n",
    "\n",
    "Input Format. The two integers 𝑎 and 𝑏 are given in the same line separated by space.\n",
    "\n",
    "Constraints. 1≤𝑎,𝑏≤2·$10^9$.\n",
    "\n",
    "Output Format. Output the least common multiple of 𝑎 and 𝑏."
   ]
  },
  {
   "cell_type": "code",
   "execution_count": 86,
   "metadata": {
    "collapsed": true
   },
   "outputs": [],
   "source": [
    "def lcm_naive(a, b):\n",
    "    for l in range(1, a*b + 1):\n",
    "        if l % a == 0 and l % b == 0:\n",
    "            return l\n",
    "\n",
    "    return a*b"
   ]
  },
  {
   "cell_type": "code",
   "execution_count": 95,
   "metadata": {
    "collapsed": true
   },
   "outputs": [],
   "source": [
    "def lcm(a, b):\n",
    "    gcd = Euclid_gcd(a, b)\n",
    "    lcm = a * b / gcd\n",
    "    return int(lcm)"
   ]
  },
  {
   "cell_type": "code",
   "execution_count": 94,
   "metadata": {},
   "outputs": [
    {
     "data": {
      "text/plain": [
       "24"
      ]
     },
     "execution_count": 94,
     "metadata": {},
     "output_type": "execute_result"
    }
   ],
   "source": [
    "lcm(6, 8)"
   ]
  },
  {
   "cell_type": "markdown",
   "metadata": {},
   "source": [
    "### Huge Fibonacci Number modulo m\n",
    "\n",
    "Task. Given two integers 𝑛 and 𝑚, output $𝐹_𝑛$ mod 𝑚 (that is, the remainder of $𝐹_𝑛$ when divided by 𝑚). \n",
    "\n",
    "Input Format. The input consists of two integers 𝑛 and 𝑚 given on the same line (separated by a space). \n",
    "\n",
    "Constraints. 1≤𝑛≤$10^{18}$, 2≤𝑚≤$10^5$.\n",
    "\n",
    "Output Format. Output $𝐹_𝑛$ mod 𝑚."
   ]
  },
  {
   "cell_type": "code",
   "execution_count": 186,
   "metadata": {
    "collapsed": true
   },
   "outputs": [],
   "source": [
    "def get_fibonacci_modulo_m(n, m):\n",
    "    if n <= 1:\n",
    "        return n\n",
    "    previous = 0\n",
    "    current  = 1\n",
    "\n",
    "    for _ in range(n - 1):\n",
    "        previous, current = current%m, previous%m + current\n",
    "    return current % m"
   ]
  },
  {
   "cell_type": "code",
   "execution_count": 379,
   "metadata": {
    "collapsed": true
   },
   "outputs": [],
   "source": [
    "import time"
   ]
  },
  {
   "cell_type": "code",
   "execution_count": 384,
   "metadata": {
    "collapsed": true
   },
   "outputs": [],
   "source": [
    "def get_pisano_period(m):\n",
    "    a = 0\n",
    "    b = 1\n",
    "    c = a + b\n",
    "    for i in range(0, m*m):\n",
    "        c = (a + b) % m\n",
    "        a = b\n",
    "        b = c\n",
    "        if (a == 0) & (b == 1):\n",
    "            return i + 1"
   ]
  },
  {
   "cell_type": "code",
   "execution_count": 301,
   "metadata": {
    "code_folding": [],
    "collapsed": true
   },
   "outputs": [],
   "source": [
    "def get_pisano_length(m):\n",
    "    # option with saving the whole array of fib mod m\n",
    "    #     pisano = [0, 1]\n",
    "    #     for i in range(2, m*m+2):\n",
    "    #         if (len(pisano)==2) or (pisano[-2:] != [0, 1]):\n",
    "    #             pisano.append(get_fibonacci_modulo_m(i, m))\n",
    "    #             print(pisano)\n",
    "    #         else:\n",
    "    #             break         \n",
    "\n",
    "    l = 0\n",
    "    pisano = [\"0\", \"1\"]\n",
    "    for i in range(2, m*m+2):\n",
    "        if pisano != [0, 1]:\n",
    "            pisano[0] = pisano[1]\n",
    "            pisano[1] = get_fibonacci_modulo_m(i, m)\n",
    "            l+=1\n",
    "        else:\n",
    "            break\n",
    "    return l"
   ]
  },
  {
   "cell_type": "code",
   "execution_count": 361,
   "metadata": {
    "collapsed": true
   },
   "outputs": [],
   "source": [
    "def get_fibonacci_huge(n, m):\n",
    "    if n <= 1:\n",
    "        return n\n",
    "    else:\n",
    "        smaller_fibonacci_n = n%get_pisano_period(m)\n",
    "        return get_fibonacci_modulo_m(smaller_fibonacci_n, m)"
   ]
  },
  {
   "cell_type": "code",
   "execution_count": 373,
   "metadata": {},
   "outputs": [
    {
     "name": "stdout",
     "output_type": "stream",
     "text": [
      "10 loops, best of 3: 43.5 ms per loop\n"
     ]
    }
   ],
   "source": [
    "%%timeit\n",
    "get_fibonacci_huge(99999999999999999, 100000)"
   ]
  },
  {
   "cell_type": "code",
   "execution_count": 363,
   "metadata": {},
   "outputs": [
    {
     "data": {
      "text/plain": [
       "10249"
      ]
     },
     "execution_count": 363,
     "metadata": {},
     "output_type": "execute_result"
    }
   ],
   "source": [
    "get_fibonacci_huge(2816213588, 30524)"
   ]
  },
  {
   "cell_type": "code",
   "execution_count": 366,
   "metadata": {},
   "outputs": [
    {
     "data": {
      "text/plain": [
       "915075"
      ]
     },
     "execution_count": 366,
     "metadata": {},
     "output_type": "execute_result"
    }
   ],
   "source": [
    "get_fibonacci_huge(100, 1000000)"
   ]
  },
  {
   "cell_type": "markdown",
   "metadata": {},
   "source": [
    "### Sum of Fibonacci Numbers\n",
    "Task. Given an integer 𝑛, find the last digit of the sum $𝐹_0 +𝐹_1 +···+𝐹_𝑛$. \n",
    "\n",
    "Input Format. The input consists of a single integer 𝑛.\n",
    "\n",
    "Constraints. $0 ≤ 𝑛 ≤ 10^{14}$.\n",
    "\n",
    "Output Format. Output the last digit of $𝐹_0 + 𝐹_1 + · · · + 𝐹_𝑛$."
   ]
  },
  {
   "cell_type": "code",
   "execution_count": null,
   "metadata": {
    "collapsed": true
   },
   "outputs": [],
   "source": []
  }
 ],
 "metadata": {
  "kernelspec": {
   "display_name": "Python 3",
   "language": "python",
   "name": "python3"
  },
  "language_info": {
   "codemirror_mode": {
    "name": "ipython",
    "version": 3
   },
   "file_extension": ".py",
   "mimetype": "text/x-python",
   "name": "python",
   "nbconvert_exporter": "python",
   "pygments_lexer": "ipython3",
   "version": "3.6.1"
  },
  "varInspector": {
   "cols": {
    "lenName": 16,
    "lenType": 16,
    "lenVar": 40
   },
   "kernels_config": {
    "python": {
     "delete_cmd_postfix": "",
     "delete_cmd_prefix": "del ",
     "library": "var_list.py",
     "varRefreshCmd": "print(var_dic_list())"
    },
    "r": {
     "delete_cmd_postfix": ") ",
     "delete_cmd_prefix": "rm(",
     "library": "var_list.r",
     "varRefreshCmd": "cat(var_dic_list()) "
    }
   },
   "types_to_exclude": [
    "module",
    "function",
    "builtin_function_or_method",
    "instance",
    "_Feature"
   ],
   "window_display": false
  }
 },
 "nbformat": 4,
 "nbformat_minor": 2
}
